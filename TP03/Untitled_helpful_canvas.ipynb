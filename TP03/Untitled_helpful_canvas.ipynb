{
 "cells": [
  {
   "cell_type": "code",
   "execution_count": 7,
   "id": "0c21c426-bb22-467d-96f1-a5635c5e6ce0",
   "metadata": {},
   "outputs": [],
   "source": [
    "import numpy as np"
   ]
  },
  {
   "cell_type": "code",
   "execution_count": 8,
   "id": "95e5f066-e32c-4b96-9ca7-5d9d4fa46815",
   "metadata": {},
   "outputs": [],
   "source": [
    "A = []\n",
    "B = []\n",
    "for _ in range(4):\n",
    "    a = np.identity(5)\n",
    "    b = np.zeros(5)\n",
    "    A.append(a)\n",
    "    B.append(b)"
   ]
  },
  {
   "cell_type": "code",
   "execution_count": 10,
   "id": "d7aaa262-fb29-464b-bf53-330230253b9d",
   "metadata": {},
   "outputs": [
    {
     "data": {
      "text/plain": [
       "[array([0., 0., 0., 0., 0.]),\n",
       " array([0., 0., 0., 0., 0.]),\n",
       " array([0., 0., 0., 0., 0.]),\n",
       " array([0., 0., 0., 0., 0.])]"
      ]
     },
     "execution_count": 10,
     "metadata": {},
     "output_type": "execute_result"
    }
   ],
   "source": [
    "B"
   ]
  },
  {
   "cell_type": "code",
   "execution_count": 11,
   "id": "1296acd4-50b4-495f-a67a-64b8cc89feba",
   "metadata": {},
   "outputs": [],
   "source": [
    "theta = np.linalg.inv(A[0])* B[0]"
   ]
  },
  {
   "cell_type": "code",
   "execution_count": 12,
   "id": "55746d86-fe9f-44cb-9981-d14d0df0e9fb",
   "metadata": {},
   "outputs": [
    {
     "data": {
      "text/plain": [
       "array([[0., 0., 0., 0., 0.],\n",
       "       [0., 0., 0., 0., 0.],\n",
       "       [0., 0., 0., 0., 0.],\n",
       "       [0., 0., 0., 0., 0.],\n",
       "       [0., 0., 0., 0., 0.]])"
      ]
     },
     "execution_count": 12,
     "metadata": {},
     "output_type": "execute_result"
    }
   ],
   "source": [
    "theta"
   ]
  },
  {
   "cell_type": "code",
   "execution_count": 15,
   "id": "887873b2-cbec-4865-b009-6504e868f245",
   "metadata": {},
   "outputs": [],
   "source": [
    "theta = np.dot(np.linalg.inv(A[0]), B[0])"
   ]
  },
  {
   "cell_type": "code",
   "execution_count": 16,
   "id": "fe2075a8-4e25-4df0-a038-6711cc79d040",
   "metadata": {},
   "outputs": [
    {
     "data": {
      "text/plain": [
       "array([0., 0., 0., 0., 0.])"
      ]
     },
     "execution_count": 16,
     "metadata": {},
     "output_type": "execute_result"
    }
   ],
   "source": [
    "theta"
   ]
  },
  {
   "cell_type": "code",
   "execution_count": 17,
   "id": "ef5ba063-dd4b-4c69-9eb1-7310fca320e8",
   "metadata": {},
   "outputs": [],
   "source": [
    "x = np.random.randn(5)"
   ]
  },
  {
   "cell_type": "code",
   "execution_count": 18,
   "id": "67731667-9496-4576-9842-4a7f501892f9",
   "metadata": {},
   "outputs": [
    {
     "data": {
      "text/plain": [
       "array([-1.27302364,  0.27206271,  1.72048184, -0.55488858,  2.53833971])"
      ]
     },
     "execution_count": 18,
     "metadata": {},
     "output_type": "execute_result"
    }
   ],
   "source": [
    "x"
   ]
  },
  {
   "cell_type": "code",
   "execution_count": 21,
   "id": "117d6e2b-b449-477d-95eb-55c2800ce553",
   "metadata": {},
   "outputs": [],
   "source": [
    "x1 = x.transpose()"
   ]
  },
  {
   "cell_type": "code",
   "execution_count": 22,
   "id": "a34ecf89-c3d6-45b8-987b-0f66320f6ef8",
   "metadata": {},
   "outputs": [
    {
     "data": {
      "text/plain": [
       "array([-1.27302364,  0.27206271,  1.72048184, -0.55488858,  2.53833971])"
      ]
     },
     "execution_count": 22,
     "metadata": {},
     "output_type": "execute_result"
    }
   ],
   "source": [
    "x1"
   ]
  },
  {
   "cell_type": "code",
   "execution_count": 38,
   "id": "2b64b5fd-dc7e-478d-9912-2f3d3014418b",
   "metadata": {},
   "outputs": [
    {
     "data": {
      "text/plain": [
       "array([[ 1.62058919, -0.34634226, -2.19021406,  0.70638628, -3.23136646],\n",
       "       [-0.34634226,  0.07401812,  0.46807895, -0.15096449,  0.69058758],\n",
       "       [-2.19021406,  0.46807895,  2.96005778, -0.95467573,  4.36716739],\n",
       "       [ 0.70638628, -0.15096449, -0.95467573,  0.30790134, -1.40849572],\n",
       "       [-3.23136646,  0.69058758,  4.36716739, -1.40849572,  6.44316849]])"
      ]
     },
     "execution_count": 38,
     "metadata": {},
     "output_type": "execute_result"
    }
   ],
   "source": [
    "np.outer(x, x)"
   ]
  },
  {
   "cell_type": "code",
   "execution_count": 39,
   "id": "64627f99-ff42-4baf-b5aa-3b2de6d0778f",
   "metadata": {},
   "outputs": [
    {
     "data": {
      "text/plain": [
       "array([-0.,  0.,  0., -0.,  0.])"
      ]
     },
     "execution_count": 39,
     "metadata": {},
     "output_type": "execute_result"
    }
   ],
   "source": [
    "x* theta"
   ]
  },
  {
   "cell_type": "code",
   "execution_count": 23,
   "id": "47a0169a-7997-4d1e-bd84-52b620c097d3",
   "metadata": {},
   "outputs": [],
   "source": [
    "p1 = np.dot(x.transpose(), theta)"
   ]
  },
  {
   "cell_type": "code",
   "execution_count": 24,
   "id": "28a7a9d2-33d7-4f42-bdea-ebcff8524a2b",
   "metadata": {},
   "outputs": [
    {
     "data": {
      "text/plain": [
       "0.0"
      ]
     },
     "execution_count": 24,
     "metadata": {},
     "output_type": "execute_result"
    }
   ],
   "source": [
    "p1 # YES ITS A SCALAR VALUE"
   ]
  },
  {
   "cell_type": "code",
   "execution_count": 29,
   "id": "7ed7a8a5-ed53-477a-9917-414cf91df8a2",
   "metadata": {},
   "outputs": [
    {
     "data": {
      "text/plain": [
       "array([-1.27302364,  0.27206271,  1.72048184, -0.55488858,  2.53833971])"
      ]
     },
     "execution_count": 29,
     "metadata": {},
     "output_type": "execute_result"
    }
   ],
   "source": [
    "x.transpose()"
   ]
  },
  {
   "cell_type": "code",
   "execution_count": 33,
   "id": "516fe948-e7c3-4aaa-9993-6e266f5ad997",
   "metadata": {},
   "outputs": [
    {
     "data": {
      "text/plain": [
       "array([-1.27302364,  0.27206271,  1.72048184, -0.55488858,  2.53833971])"
      ]
     },
     "execution_count": 33,
     "metadata": {},
     "output_type": "execute_result"
    }
   ],
   "source": [
    "x"
   ]
  },
  {
   "cell_type": "code",
   "execution_count": 37,
   "id": "c7aae68e-b696-48a8-8d36-4678a27c0045",
   "metadata": {},
   "outputs": [
    {
     "name": "stdout",
     "output_type": "stream",
     "text": [
      "11.405734911191942\n"
     ]
    }
   ],
   "source": [
    "resu = 0\n",
    "for i in x:\n",
    "    resu+= (i**2)\n",
    "print(resu)"
   ]
  },
  {
   "cell_type": "code",
   "execution_count": 31,
   "id": "41270930-7ccd-4914-b289-96e29a6b4759",
   "metadata": {},
   "outputs": [
    {
     "data": {
      "text/plain": [
       "array([[1., 0., 0., 0., 0.],\n",
       "       [0., 1., 0., 0., 0.],\n",
       "       [0., 0., 1., 0., 0.],\n",
       "       [0., 0., 0., 1., 0.],\n",
       "       [0., 0., 0., 0., 1.]])"
      ]
     },
     "execution_count": 31,
     "metadata": {},
     "output_type": "execute_result"
    }
   ],
   "source": [
    "A[0]"
   ]
  },
  {
   "cell_type": "code",
   "execution_count": 36,
   "id": "4a23bf1a-f642-44a1-9ac9-a496a88292b2",
   "metadata": {},
   "outputs": [
    {
     "data": {
      "text/plain": [
       "11.405734911191942"
      ]
     },
     "execution_count": 36,
     "metadata": {},
     "output_type": "execute_result"
    }
   ],
   "source": [
    "np.dot(np.dot(x.transpose(),np.linalg.inv(A[0])), x )"
   ]
  },
  {
   "cell_type": "code",
   "execution_count": 43,
   "id": "3716ea94-6fdf-4f43-9d48-6d5eb8decdd3",
   "metadata": {},
   "outputs": [],
   "source": [
    "# define randon reward\n",
    "reward = 2"
   ]
  },
  {
   "cell_type": "code",
   "execution_count": 44,
   "id": "b21835b9-39f5-4cb1-a975-c9a41068b627",
   "metadata": {},
   "outputs": [
    {
     "data": {
      "text/plain": [
       "array([-1.27302364,  0.27206271,  1.72048184, -0.55488858,  2.53833971])"
      ]
     },
     "execution_count": 44,
     "metadata": {},
     "output_type": "execute_result"
    }
   ],
   "source": [
    "x"
   ]
  },
  {
   "cell_type": "code",
   "execution_count": 45,
   "id": "d434471b-8196-456a-bfd1-c64e67ffd80d",
   "metadata": {},
   "outputs": [
    {
     "data": {
      "text/plain": [
       "array([-2.54604728,  0.54412542,  3.44096369, -1.10977716,  5.07667942])"
      ]
     },
     "execution_count": 45,
     "metadata": {},
     "output_type": "execute_result"
    }
   ],
   "source": [
    "reward * x"
   ]
  },
  {
   "cell_type": "code",
   "execution_count": null,
   "id": "5cef7f4b-f5fe-46f8-b85d-8a170aad0293",
   "metadata": {},
   "outputs": [],
   "source": []
  }
 ],
 "metadata": {
  "kernelspec": {
   "display_name": "Python 3 (ipykernel)",
   "language": "python",
   "name": "python3"
  },
  "language_info": {
   "codemirror_mode": {
    "name": "ipython",
    "version": 3
   },
   "file_extension": ".py",
   "mimetype": "text/x-python",
   "name": "python",
   "nbconvert_exporter": "python",
   "pygments_lexer": "ipython3",
   "version": "3.8.12"
  }
 },
 "nbformat": 4,
 "nbformat_minor": 5
}
